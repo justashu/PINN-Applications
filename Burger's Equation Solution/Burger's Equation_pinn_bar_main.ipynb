{
 "cells": [
  {
   "cell_type": "markdown",
   "id": "MVaR4b9-iu3L",
   "metadata": {
    "id": "MVaR4b9-iu3L"
   },
   "source": [
    "# The solution for the Burger's Equation using the PINN model"
   ]
  },
  {
   "cell_type": "markdown",
   "id": "24f6ebHvjSap",
   "metadata": {
    "id": "24f6ebHvjSap"
   },
   "source": [
    "1. First we import all the relevant classes and libraries"
   ]
  },
  {
   "cell_type": "code",
   "execution_count": 1,
   "id": "42b716a5",
   "metadata": {},
   "outputs": [
    {
     "name": "stdout",
     "output_type": "stream",
     "text": [
      "Requirement already satisfied: pyDOE in /Users/ashutosh/opt/anaconda3/lib/python3.9/site-packages (0.3.8)\n",
      "Requirement already satisfied: numpy in /Users/ashutosh/opt/anaconda3/lib/python3.9/site-packages (from pyDOE) (1.20.3)\n",
      "Requirement already satisfied: scipy in /Users/ashutosh/opt/anaconda3/lib/python3.9/site-packages (from pyDOE) (1.7.1)\n",
      "Note: you may need to restart the kernel to use updated packages.\n"
     ]
    }
   ],
   "source": [
    "pip install pyDOE\n"
   ]
  },
  {
   "cell_type": "code",
   "execution_count": 2,
   "id": "w_l4adLOjGyJ",
   "metadata": {
    "id": "w_l4adLOjGyJ"
   },
   "outputs": [],
   "source": [
    "#from physicsinformed import PhysicsInformedBarModel\n",
    "import scipy.io\n",
    "from pyDOE import lhs\n",
    "import utilities\n",
    "import numpy as np\n",
    "import torch\n",
    "import matplotlib.pyplot as plt\n",
    "device = torch.device('cuda' if torch.cuda.is_available() else 'cpu')\n",
    "#dtype=torch.cfloat\n",
    "dtype = torch.float\n",
    "# Set seed for the Random Number Generator (RNG), setting the seed generates same set of random numbers everytime \n",
    "torch.manual_seed(10)\n",
    "np.random.seed(10)\n",
    "\n",
    "N_f = 20000\n",
    "N0 = 500\n",
    "N_b = 600\n",
    "ub = np.array([1,1])\n",
    "lb = np.array([0,-1])\n",
    "X_ = lb + (ub - lb) * lhs(2, N_f)\n",
    "\n",
    "tt = X_[:, 0:1]\n",
    "xx = X_[:, 1:2]\n",
    "\n",
    "\n",
    "\n",
    "id_f = np.random.choice(X_.shape[0], N_f, replace=False)\n",
    "id_b = np.random.choice(X_.shape[0], N_f, replace=False)\n",
    "id0 = np.random.choice(X_.shape[0], N0, replace=False)\n",
    "idlb = np.random.choice(X_.shape[0], N_b, replace=False)\n",
    "idub = np.random.choice(X_.shape[0], N_b, replace=False)\n",
    "\n",
    "\n",
    "\n",
    "x = torch.tensor(xx[id_f,:], dtype=dtype, requires_grad=True, device=device)\n",
    "t = torch.tensor(tt[id_f,:], dtype=dtype, requires_grad=True, device=device)\n",
    "t0 = torch.tensor(tt[id0,:], dtype=dtype, requires_grad=True, device=device)\n",
    "x0 = torch.tensor(xx[id0,:], dtype=dtype, requires_grad=True, device=device)\n",
    "tlb = torch.tensor(tt[idlb,:], dtype=dtype, requires_grad=True, device=device)\n",
    "xlb = torch.tensor(xx[idlb,:], dtype=dtype, requires_grad=True, device=device)\n",
    "xub = torch.tensor(xx[idub,:], dtype=dtype, requires_grad=True, device=device)\n",
    "tub = torch.tensor(tt[idub,:], dtype=dtype, requires_grad=True, device=device)\n",
    "\n",
    "sech = lambda x: 1/torch.cosh(x)"
   ]
  },
  {
   "cell_type": "code",
   "execution_count": 4,
   "id": "92e50deb",
   "metadata": {
    "id": "w_l4adLOjGyJ"
   },
   "outputs": [],
   "source": [
    "#from physicsinformed import PhysicsInformedBarModel\n",
    "import scipy.io\n",
    "from pyDOE import lhs\n",
    "import utilities\n",
    "import numpy as np\n",
    "import torch\n",
    "import matplotlib.pyplot as plt\n",
    "device = torch.device('cuda' if torch.cuda.is_available() else 'cpu')\n",
    "#dtype=torch.cfloat\n",
    "dtype = torch.float\n",
    "# Set seed for the Random Number Generator (RNG), setting the seed generates same set of random numbers everytime \n",
    "torch.manual_seed(0)\n",
    "np.random.seed(0)\n",
    "\n",
    "N_f = 2000\n",
    "N0 = 500\n",
    "N_b = 600\n",
    "ub = np.array([1,1])\n",
    "lb = np.array([0,-1])\n",
    "X_ = lb + (ub - lb) * lhs(2, N_f)\n",
    "\n",
    "tt = X_[:, 0:1]\n",
    "xx = X_[:, 1:2]\n",
    "T, X = np.meshgrid(tt,xx)\n",
    "\n",
    "X_star = np.hstack((T.flatten()[:,None],X.flatten()[:,None]))\n",
    "\n",
    "id_f = np.random.choice(X_star.shape[0], N_f*10, replace=False)\n",
    "id_b = np.random.choice(X_star.shape[0], N_f*10, replace=False)\n",
    "id0 = np.random.choice(X_star.shape[0], N0, replace=False)\n",
    "idlb = np.random.choice(X_star.shape[0], N_b, replace=False)\n",
    "idub = np.random.choice(X_star.shape[0], N_b, replace=False)\n",
    "\n",
    "\n",
    "\n",
    "x = torch.tensor(X_star[:, 1:2][id_f,:], dtype=dtype, requires_grad=True, device=device)\n",
    "t = torch.tensor(X_star[:, 0:1][id_f,:], dtype=dtype, requires_grad=True, device=device)\n",
    "t0 = torch.tensor(X_star[:, 0:1][id0,:], dtype=dtype, requires_grad=True, device=device)\n",
    "x0 = torch.tensor(X_star[:, 1:2][id0,:], dtype=dtype, requires_grad=True, device=device)\n",
    "tlb = torch.tensor(X_star[:, 0:1][idlb,:], dtype=dtype, requires_grad=True, device=device)\n",
    "xlb = torch.tensor(X_star[:, 1:2][idlb,:], dtype=dtype, requires_grad=True, device=device)\n",
    "xub = torch.tensor(X_star[:, 1:2][idub,:], dtype=dtype, requires_grad=True, device=device)\n",
    "tub = torch.tensor(X_star[:, 0:1][idub,:], dtype=dtype, requires_grad=True, device=device)\n",
    "\n",
    "sech = lambda x: 1/torch.cosh(x)"
   ]
  },
  {
   "cell_type": "code",
   "execution_count": 5,
   "id": "e0d3a758",
   "metadata": {},
   "outputs": [],
   "source": [
    "class PhysicsInformedBarModel:\n",
    "    \"\"\"A class used for the definition of Physics Informed Models for one dimensional bars.\"\"\"\n",
    "\n",
    "    def __init__(self,t0,x0,xub,tub,xlb,tlb, t,x,sech):\n",
    "        \"\"\"Construct a PhysicsInformedBar model\"\"\"\n",
    "        \n",
    "        \n",
    "        self.t0 = t0*0\n",
    "        self.x0 = x0\n",
    "        self.xub = xub*0+1\n",
    "        self.xlb = xlb*0-1\n",
    "        self.t = t\n",
    "        self.x = x\n",
    "        self.tub = tub\n",
    "        self.tlb = tlb\n",
    "        self.sech = sech\n",
    "        self.model = utilities.build_model(2,[20,20,20,20,20,20,20],1)\n",
    "        self.differential_equation_loss_history = None\n",
    "        self.boundary_condition_loss_history = None\n",
    "        self.ini_condition_loss_history = None\n",
    "        self.total_loss_history = None\n",
    "        self.optimizer = None\n",
    "\n",
    "    def get_displacements(self, t,x):\n",
    "        \"\"\"Get displacements.\"\"\"\n",
    "\n",
    "        u = self.model(torch.cat((t,x),1))   # predict\n",
    "\n",
    "        return u\n",
    "\n",
    "    def costFunction(self,t, x, u_pred):\n",
    "        \"\"\"Compute the cost function.\"\"\"\n",
    "        u_t = utilities.get_derivative(u_pred, t, 1).view(-1,1)\n",
    "        u_x = utilities.get_derivative(u_pred, x,1)\n",
    "        u_xx = utilities.get_derivative(u_pred, x,2)\n",
    "        u_xlb = utilities.get_derivative(self.get_displacements(self.tlb,self.xlb), self.xlb,1)\n",
    "        u_xub = utilities.get_derivative(self.get_displacements(self.tub,self.xub), self.xub,1)\n",
    "        u_predlb = self.get_displacements(self.tlb,self.xlb)\n",
    "        u_predub = self.get_displacements(self.tub,self.xub)\n",
    "        u_x_lb = utilities.get_derivative(u_predlb , xlb,1)\n",
    "        u_x_ub = utilities.get_derivative(u_predub , xub,1)\n",
    "        i = 1j\n",
    "        # Differential equation loss (f)\n",
    "        differential_equation_loss = torch.mean((u_t+u_pred*u_x-(0.01/np.pi)*u_xx)**2)#torch.mean(((u_t*i+0.5*u_xx+u_pred*(u_pred.abs())).abs())**2)\n",
    "        \n",
    "\n",
    "        # Boundary condition loss initialization\n",
    "       # boundary_condition_loss = 0\n",
    "\n",
    "        # Sum over dirichlet and neumann boundary condition losses\n",
    "        ini_condition_loss = torch.mean((self.get_displacements(self.t0,self.x0)+torch.sin(torch.pi*self.x0)) ** 2)\n",
    "        boundary_condition_loss = torch.mean(u_predlb**2+u_predub**2)                                        \n",
    "        #boundary_condition_loss += torch.mean(((self.get_displacements(self.t0,self.x0-2*self.sech(self.t0,self.x0))).abs()) ** 2).view(1)\n",
    "        #boundary_condition_loss += torch.mean((u_predlb-u_predub).abs()) ** 2\n",
    "        #boundary_condition_loss += torch.mean((( u_x_lb - u_x_ub) ** 2).abs()).view(1)\n",
    "\n",
    "        return differential_equation_loss, boundary_condition_loss,ini_condition_loss\n",
    "\n",
    "    def closure(self):\n",
    "        \"\"\"Calculation of training error and gradient\"\"\"\n",
    "        self.optimizer.zero_grad()\n",
    "        u_pred = self.get_displacements(self.t,self.x)\n",
    "        loss = self.costFunction(self.t,self.x, u_pred)\n",
    "        loss = loss[0] + loss[1] + loss[2]\n",
    "        loss.backward(retain_graph=True)\n",
    "        return loss\n",
    "\n",
    "    def train(self, epochs, optimizer=None, **kwargs):\n",
    "        \"\"\"Train the model.\"\"\"\n",
    "\n",
    "        # Set optimizer\n",
    "        if optimizer=='Adam':\n",
    "            self.optimizer = torch.optim.Adam(self.model.parameters(), **kwargs)\n",
    "        \n",
    "        elif optimizer=='LBFGS':\n",
    "            self.optimizer = torch.optim.LBFGS(self.model.parameters(), **kwargs)\n",
    "\n",
    "        # Initialize history arrays\n",
    "        self.differential_equation_loss_history = np.zeros(epochs)\n",
    "        self.boundary_condition_loss_history = np.zeros(epochs)\n",
    "        self.total_loss_history = np.zeros(epochs)\n",
    "        self.ini_condition_loss_history =  np.zeros(epochs)\n",
    "            \n",
    "        # Training loop\n",
    "        for i in range(epochs):\n",
    "            # Predict displacements\n",
    "            u_pred = self.get_displacements(self.t,self.x)\n",
    "\n",
    "            # Cost function calculation\n",
    "            differential_equation_loss, boundary_condition_loss,ini_condition_loss = self.costFunction(self.t,self.x, u_pred)\n",
    "\n",
    "            # Total loss\n",
    "            total_loss = differential_equation_loss + boundary_condition_loss +ini_condition_loss\n",
    "\n",
    "            # Add energy values to history\n",
    "            self.differential_equation_loss_history[i] += differential_equation_loss\n",
    "            self.boundary_condition_loss_history[i] += boundary_condition_loss\n",
    "            self.ini_condition_loss_history[i]+= ini_condition_loss\n",
    "            self.total_loss_history[i] += total_loss\n",
    "\n",
    "            # Print training state\n",
    "            self.print_training_state(i, epochs)\n",
    "\n",
    "            # Update parameters (Neural network train)\n",
    "            self.optimizer.step(self.closure)\n",
    "\n",
    "    def print_training_state(self, epoch, epochs, print_every=100):\n",
    "        \"\"\"Print the loss values of the current epoch in a training loop.\"\"\"\n",
    "\n",
    "        if epoch == 0 or epoch == (epochs - 1) or epoch % print_every == 0 or print_every == 'all':\n",
    "            # Prepare string\n",
    "            string = \"Epoch: {}/{}\\t\\tDifferential equation loss = {:2f}\\t\\tBoundary condition loss = {:2f}\\t\\tTotal loss = {:2f}\"\n",
    "\n",
    "            # Format string and print\n",
    "            print(string.format(epoch, epochs - 1, self.differential_equation_loss_history[epoch], self.boundary_condition_loss_history[epoch], self.total_loss_history[epoch]))\n",
    "            print(self.ini_condition_loss_history[epoch])\n",
    "    def plot_training_history(self, yscale='log'):\n",
    "        \"\"\"Plot the training history.\"\"\"\n",
    "\n",
    "        # Set up plot\n",
    "        fig, ax = plt.subplots(figsize=(4,3))\n",
    "        ax.set_title(\"Cost function history\")\n",
    "        ax.set_xlabel(\"Epochs\")\n",
    "        ax.set_ylabel(\"Cost function C\")\n",
    "        plt.yscale(yscale)\n",
    "\n",
    "        # Plot data\n",
    "        ax.plot(self.total_loss_history, 'k', linewidth=2, label=\"Total cost\")\n",
    "        ax.plot(self.differential_equation_loss_history, color='silver', linestyle='--', linewidth=2, label=\"Differential equation loss\")\n",
    "        ax.plot(self.boundary_condition_loss_history, color='r', linestyle='-.', linewidth=2, label=\"Boundary condition loss\")\n",
    "        \n",
    "\n",
    "        ax.legend()\n",
    "        fig.tight_layout()\n",
    "        plt.show() \n",
    "        \n",
    "        \n",
    "\n"
   ]
  },
  {
   "cell_type": "code",
   "execution_count": 6,
   "id": "wixdAtJckJs0",
   "metadata": {
    "id": "wixdAtJckJs0"
   },
   "outputs": [],
   "source": [
    "\n",
    "u_t0 = lambda t,x: x*x*torch.cos(np.pi*x)"
   ]
  },
  {
   "cell_type": "markdown",
   "id": "9RzoofTZkNxz",
   "metadata": {
    "id": "9RzoofTZkNxz"
   },
   "source": [
    "4. Next we generate the neural network model using the imported class PhysicsInformedBarModel"
   ]
  },
  {
   "cell_type": "code",
   "execution_count": 7,
   "id": "aOK1MmCGkdEA",
   "metadata": {
    "colab": {
     "base_uri": "https://localhost:8080/"
    },
    "id": "aOK1MmCGkdEA",
    "outputId": "c81f4848-6661-44ca-c1e5-f7b564b12406"
   },
   "outputs": [
    {
     "name": "stdout",
     "output_type": "stream",
     "text": [
      "check 7\n",
      "check 7\n",
      "check 7\n",
      "check 7\n",
      "check 7\n",
      "check 7\n"
     ]
    }
   ],
   "source": [
    "pinnModel = PhysicsInformedBarModel(t0,x0,xub,tub,xlb,tlb, t,x,sech)"
   ]
  },
  {
   "cell_type": "markdown",
   "id": "9YLwGbdpkhxv",
   "metadata": {
    "id": "9YLwGbdpkhxv"
   },
   "source": [
    "5. Next we train our model. The method/function 'train' is defined in the class PhysicsInformedBarModel"
   ]
  },
  {
   "cell_type": "code",
   "execution_count": 8,
   "id": "UKjY96mRkoFa",
   "metadata": {
    "colab": {
     "base_uri": "https://localhost:8080/"
    },
    "id": "UKjY96mRkoFa",
    "outputId": "6580de39-e794-4adb-e9f5-17d7793b4f55",
    "scrolled": true
   },
   "outputs": [
    {
     "name": "stdout",
     "output_type": "stream",
     "text": [
      "Epoch: 0/6999\t\tDifferential equation loss = 0.000007\t\tBoundary condition loss = 0.012218\t\tTotal loss = 0.521141\n",
      "0.5089167952537537\n",
      "Epoch: 100/6999\t\tDifferential equation loss = 0.033858\t\tBoundary condition loss = 0.037933\t\tTotal loss = 0.362647\n",
      "0.29085564613342285\n",
      "Epoch: 200/6999\t\tDifferential equation loss = 0.062712\t\tBoundary condition loss = 0.007363\t\tTotal loss = 0.157015\n",
      "0.08693952113389969\n",
      "Epoch: 300/6999\t\tDifferential equation loss = 0.054262\t\tBoundary condition loss = 0.009929\t\tTotal loss = 0.143058\n",
      "0.07886682450771332\n",
      "Epoch: 400/6999\t\tDifferential equation loss = 0.049167\t\tBoundary condition loss = 0.005316\t\tTotal loss = 0.124803\n",
      "0.07031945884227753\n",
      "Epoch: 500/6999\t\tDifferential equation loss = 0.048270\t\tBoundary condition loss = 0.002950\t\tTotal loss = 0.111301\n",
      "0.06008085981011391\n",
      "Epoch: 600/6999\t\tDifferential equation loss = 0.046891\t\tBoundary condition loss = 0.001936\t\tTotal loss = 0.107113\n",
      "0.05828654021024704\n",
      "Epoch: 700/6999\t\tDifferential equation loss = 0.044091\t\tBoundary condition loss = 0.001532\t\tTotal loss = 0.104293\n",
      "0.05866992473602295\n",
      "Epoch: 800/6999\t\tDifferential equation loss = 0.044045\t\tBoundary condition loss = 0.001518\t\tTotal loss = 0.101048\n",
      "0.05548413470387459\n",
      "Epoch: 900/6999\t\tDifferential equation loss = 0.042202\t\tBoundary condition loss = 0.001303\t\tTotal loss = 0.097827\n",
      "0.054322194308042526\n",
      "Epoch: 1000/6999\t\tDifferential equation loss = 0.040708\t\tBoundary condition loss = 0.001150\t\tTotal loss = 0.094931\n",
      "0.05307306721806526\n",
      "Epoch: 1100/6999\t\tDifferential equation loss = 0.039768\t\tBoundary condition loss = 0.001030\t\tTotal loss = 0.092316\n",
      "0.05151787027716637\n",
      "Epoch: 1200/6999\t\tDifferential equation loss = 0.040556\t\tBoundary condition loss = 0.001741\t\tTotal loss = 0.090347\n",
      "0.04804965481162071\n",
      "Epoch: 1300/6999\t\tDifferential equation loss = 0.036668\t\tBoundary condition loss = 0.000746\t\tTotal loss = 0.086619\n",
      "0.04920481890439987\n",
      "Epoch: 1400/6999\t\tDifferential equation loss = 0.035622\t\tBoundary condition loss = 0.000724\t\tTotal loss = 0.082759\n",
      "0.04641275107860565\n",
      "Epoch: 1500/6999\t\tDifferential equation loss = 0.032169\t\tBoundary condition loss = 0.000762\t\tTotal loss = 0.074816\n",
      "0.041884809732437134\n",
      "Epoch: 1600/6999\t\tDifferential equation loss = 0.045529\t\tBoundary condition loss = 0.005376\t\tTotal loss = 0.089679\n",
      "0.038773905485868454\n",
      "Epoch: 1700/6999\t\tDifferential equation loss = 0.026651\t\tBoundary condition loss = 0.000782\t\tTotal loss = 0.054216\n",
      "0.02678321674466133\n",
      "Epoch: 1800/6999\t\tDifferential equation loss = 0.025952\t\tBoundary condition loss = 0.000482\t\tTotal loss = 0.049797\n",
      "0.023363133892416954\n",
      "Epoch: 1900/6999\t\tDifferential equation loss = 0.024521\t\tBoundary condition loss = 0.000332\t\tTotal loss = 0.045977\n",
      "0.021123753860592842\n",
      "Epoch: 2000/6999\t\tDifferential equation loss = 0.022874\t\tBoundary condition loss = 0.000279\t\tTotal loss = 0.042285\n",
      "0.019132398068904877\n",
      "Epoch: 2100/6999\t\tDifferential equation loss = 0.020976\t\tBoundary condition loss = 0.000321\t\tTotal loss = 0.038821\n",
      "0.01752329245209694\n",
      "Epoch: 2200/6999\t\tDifferential equation loss = 0.018454\t\tBoundary condition loss = 0.000696\t\tTotal loss = 0.035378\n",
      "0.016228023916482925\n",
      "Epoch: 2300/6999\t\tDifferential equation loss = 0.021479\t\tBoundary condition loss = 0.001202\t\tTotal loss = 0.035525\n",
      "0.01284420769661665\n",
      "Epoch: 2400/6999\t\tDifferential equation loss = 0.024980\t\tBoundary condition loss = 0.001038\t\tTotal loss = 0.038995\n",
      "0.012977608479559422\n",
      "Epoch: 2500/6999\t\tDifferential equation loss = 0.013030\t\tBoundary condition loss = 0.000240\t\tTotal loss = 0.022976\n",
      "0.009705726988613605\n",
      "Epoch: 2600/6999\t\tDifferential equation loss = 0.011274\t\tBoundary condition loss = 0.000244\t\tTotal loss = 0.019497\n",
      "0.00797948520630598\n",
      "Epoch: 2700/6999\t\tDifferential equation loss = 0.011118\t\tBoundary condition loss = 0.000353\t\tTotal loss = 0.018394\n",
      "0.006923604290932417\n",
      "Epoch: 2800/6999\t\tDifferential equation loss = 0.009104\t\tBoundary condition loss = 0.000297\t\tTotal loss = 0.015549\n",
      "0.006147620268166065\n",
      "Epoch: 2900/6999\t\tDifferential equation loss = 0.008283\t\tBoundary condition loss = 0.000238\t\tTotal loss = 0.014034\n",
      "0.005513039417564869\n",
      "Epoch: 3000/6999\t\tDifferential equation loss = 0.007592\t\tBoundary condition loss = 0.000179\t\tTotal loss = 0.012810\n",
      "0.005040152929723263\n",
      "Epoch: 3100/6999\t\tDifferential equation loss = 0.006892\t\tBoundary condition loss = 0.000168\t\tTotal loss = 0.011630\n",
      "0.004570069257169962\n",
      "Epoch: 3200/6999\t\tDifferential equation loss = 0.006327\t\tBoundary condition loss = 0.000169\t\tTotal loss = 0.010727\n",
      "0.00423057796433568\n",
      "Epoch: 3300/6999\t\tDifferential equation loss = 0.005932\t\tBoundary condition loss = 0.000156\t\tTotal loss = 0.010057\n",
      "0.00396836269646883\n",
      "Epoch: 3400/6999\t\tDifferential equation loss = 0.005647\t\tBoundary condition loss = 0.000216\t\tTotal loss = 0.009754\n",
      "0.003891544882208109\n",
      "Epoch: 3500/6999\t\tDifferential equation loss = 0.005274\t\tBoundary condition loss = 0.000152\t\tTotal loss = 0.008986\n",
      "0.003559474367648363\n",
      "Epoch: 3600/6999\t\tDifferential equation loss = 0.013126\t\tBoundary condition loss = 0.000407\t\tTotal loss = 0.017059\n",
      "0.0035258838906884193\n",
      "Epoch: 3700/6999\t\tDifferential equation loss = 0.005914\t\tBoundary condition loss = 0.000117\t\tTotal loss = 0.009362\n",
      "0.003329929895699024\n",
      "Epoch: 3800/6999\t\tDifferential equation loss = 0.004611\t\tBoundary condition loss = 0.000126\t\tTotal loss = 0.007841\n",
      "0.0031046862713992596\n",
      "Epoch: 3900/6999\t\tDifferential equation loss = 0.004445\t\tBoundary condition loss = 0.000129\t\tTotal loss = 0.007534\n",
      "0.002959456527605653\n",
      "Epoch: 4000/6999\t\tDifferential equation loss = 0.004377\t\tBoundary condition loss = 0.000141\t\tTotal loss = 0.007345\n",
      "0.002826812444254756\n",
      "Epoch: 4100/6999\t\tDifferential equation loss = 0.004426\t\tBoundary condition loss = 0.000116\t\tTotal loss = 0.007349\n",
      "0.0028071701526641846\n",
      "Epoch: 4200/6999\t\tDifferential equation loss = 0.005916\t\tBoundary condition loss = 0.000297\t\tTotal loss = 0.008995\n",
      "0.002782325493171811\n",
      "Epoch: 4300/6999\t\tDifferential equation loss = 0.003925\t\tBoundary condition loss = 0.000111\t\tTotal loss = 0.006554\n",
      "0.0025178471114486456\n",
      "Epoch: 4400/6999\t\tDifferential equation loss = 0.003817\t\tBoundary condition loss = 0.000124\t\tTotal loss = 0.006428\n",
      "0.0024869516491889954\n",
      "Epoch: 4500/6999\t\tDifferential equation loss = 0.003720\t\tBoundary condition loss = 0.000107\t\tTotal loss = 0.006187\n",
      "0.0023589986376464367\n",
      "Epoch: 4600/6999\t\tDifferential equation loss = 0.003685\t\tBoundary condition loss = 0.000104\t\tTotal loss = 0.006170\n",
      "0.0023808761034160852\n",
      "Epoch: 4700/6999\t\tDifferential equation loss = 0.003521\t\tBoundary condition loss = 0.000105\t\tTotal loss = 0.005855\n",
      "0.0022280325647443533\n",
      "Epoch: 4800/6999\t\tDifferential equation loss = 0.004880\t\tBoundary condition loss = 0.000332\t\tTotal loss = 0.007570\n",
      "0.0023580645211040974\n",
      "Epoch: 4900/6999\t\tDifferential equation loss = 0.003328\t\tBoundary condition loss = 0.000102\t\tTotal loss = 0.005539\n",
      "0.002109750872477889\n",
      "Epoch: 5000/6999\t\tDifferential equation loss = 0.006290\t\tBoundary condition loss = 0.000493\t\tTotal loss = 0.009017\n",
      "0.0022344589233398438\n",
      "Epoch: 5100/6999\t\tDifferential equation loss = 0.003147\t\tBoundary condition loss = 0.000100\t\tTotal loss = 0.005262\n",
      "0.002015218837186694\n",
      "Epoch: 5200/6999\t\tDifferential equation loss = 0.003051\t\tBoundary condition loss = 0.000092\t\tTotal loss = 0.005077\n",
      "0.0019332406809553504\n",
      "Epoch: 5300/6999\t\tDifferential equation loss = 0.002997\t\tBoundary condition loss = 0.000167\t\tTotal loss = 0.005098\n",
      "0.0019349127542227507\n",
      "Epoch: 5400/6999\t\tDifferential equation loss = 0.002881\t\tBoundary condition loss = 0.000091\t\tTotal loss = 0.004821\n",
      "0.001849218038842082\n",
      "Epoch: 5500/6999\t\tDifferential equation loss = 0.019206\t\tBoundary condition loss = 0.000637\t\tTotal loss = 0.022094\n",
      "0.00225097150541842\n",
      "Epoch: 5600/6999\t\tDifferential equation loss = 0.002706\t\tBoundary condition loss = 0.000091\t\tTotal loss = 0.004567\n",
      "0.0017710112733766437\n",
      "Epoch: 5700/6999\t\tDifferential equation loss = 0.002611\t\tBoundary condition loss = 0.000082\t\tTotal loss = 0.004396\n",
      "0.0017039760714396834\n",
      "Epoch: 5800/6999\t\tDifferential equation loss = 0.002546\t\tBoundary condition loss = 0.000089\t\tTotal loss = 0.004333\n",
      "0.0016971771838143468\n",
      "Epoch: 5900/6999\t\tDifferential equation loss = 0.002448\t\tBoundary condition loss = 0.000078\t\tTotal loss = 0.004153\n",
      "0.0016268995823338628\n",
      "Epoch: 6000/6999\t\tDifferential equation loss = 0.002784\t\tBoundary condition loss = 0.000113\t\tTotal loss = 0.004597\n",
      "0.0017002149252220988\n"
     ]
    },
    {
     "name": "stdout",
     "output_type": "stream",
     "text": [
      "Epoch: 6100/6999\t\tDifferential equation loss = 0.002301\t\tBoundary condition loss = 0.000078\t\tTotal loss = 0.003944\n",
      "0.0015650411369279027\n",
      "Epoch: 6200/6999\t\tDifferential equation loss = 0.002213\t\tBoundary condition loss = 0.000071\t\tTotal loss = 0.003795\n",
      "0.0015110454987734556\n",
      "Epoch: 6300/6999\t\tDifferential equation loss = 0.002187\t\tBoundary condition loss = 0.000115\t\tTotal loss = 0.003781\n",
      "0.001479058526456356\n",
      "Epoch: 6400/6999\t\tDifferential equation loss = 0.002068\t\tBoundary condition loss = 0.000069\t\tTotal loss = 0.003584\n",
      "0.0014467790024355054\n",
      "Epoch: 6500/6999\t\tDifferential equation loss = 0.002372\t\tBoundary condition loss = 0.000093\t\tTotal loss = 0.003921\n",
      "0.0014554901281371713\n",
      "Epoch: 6600/6999\t\tDifferential equation loss = 0.001933\t\tBoundary condition loss = 0.000067\t\tTotal loss = 0.003388\n",
      "0.0013878336176276207\n",
      "Epoch: 6700/6999\t\tDifferential equation loss = 0.002067\t\tBoundary condition loss = 0.000088\t\tTotal loss = 0.003905\n",
      "0.0017498171655461192\n",
      "Epoch: 6800/6999\t\tDifferential equation loss = 0.001824\t\tBoundary condition loss = 0.000066\t\tTotal loss = 0.003216\n",
      "0.0013252863427624106\n",
      "Epoch: 6900/6999\t\tDifferential equation loss = 0.001752\t\tBoundary condition loss = 0.000060\t\tTotal loss = 0.003101\n",
      "0.0012888668570667505\n",
      "Epoch: 6999/6999\t\tDifferential equation loss = 0.002116\t\tBoundary condition loss = 0.000189\t\tTotal loss = 0.003395\n",
      "0.0010901351924985647\n"
     ]
    }
   ],
   "source": [
    "epochs = 7000\n",
    "learningRate = 1e-3\n",
    "\n",
    "pinnModel.train(epochs, optimizer='Adam', lr=learningRate)"
   ]
  },
  {
   "cell_type": "markdown",
   "id": "1TneSGHGkrCq",
   "metadata": {
    "id": "1TneSGHGkrCq"
   },
   "source": [
    "6. We generate sample test data using utilities library and then predict the displacements at those test points"
   ]
  },
  {
   "cell_type": "code",
   "execution_count": 9,
   "id": "tdUpXT6flc5o",
   "metadata": {
    "id": "tdUpXT6flc5o"
   },
   "outputs": [
    {
     "data": {
      "text/plain": [
       "Text(0.5, 1.0, '@ Time = 1')"
      ]
     },
     "execution_count": 9,
     "metadata": {},
     "output_type": "execute_result"
    },
    {
     "data": {
      "image/png": "[encoded data removed]",
      "text/plain": [
       "<Figure size 432x288 with 1 Axes>"
      ]
     },
     "metadata": {
      "needs_background": "light"
     },
     "output_type": "display_data"
    }
   ],
   "source": [
    "samples = 5000\n",
    "X = []\n",
    "t = utilities.generate_grid_1d(1,5000,0)\n",
    "x = utilities.generate_grid_1d(2,5000,-1)\n",
    "#x = torch.tensor(X_star[:, 1:2], dtype=dtype, requires_grad=True, device=device)\n",
    "#t = torch.tensor(X_star[:, 0:1], dtype=dtype, requires_grad=True, device=device)\n",
    "Time = 1\n",
    "u_test = pinnModel.get_displacements(t*0+Time,x)\n",
    "plt.plot(x.detach().numpy(),u_test.detach().numpy())\n",
    "plt.xlabel('x')\n",
    "plt.ylabel('u(t,x)')\n",
    "plt.title('@ Time = 1')"
   ]
  },
  {
   "cell_type": "markdown",
   "id": "DUl2FSDzlhnp",
   "metadata": {
    "id": "DUl2FSDzlhnp"
   },
   "source": [
    "7. We plot predicted displacements at test points and also the training history"
   ]
  },
  {
   "cell_type": "code",
   "execution_count": 11,
   "id": "8f1125c4",
   "metadata": {
    "colab": {
     "base_uri": "https://localhost:8080/",
     "height": 449
    },
    "id": "8f1125c4",
    "outputId": "e212e034-711b-4e85-9e1c-c0692a527b4f"
   },
   "outputs": [
    {
     "data": {
      "image/png": "[encoded data removed]",
      "text/plain": [
       "<Figure size 288x216 with 1 Axes>"
      ]
     },
     "metadata": {
      "needs_background": "light"
     },
     "output_type": "display_data"
    }
   ],
   "source": [
    "pinnModel.plot_training_history()\n"
   ]
  },
  {
   "cell_type": "code",
   "execution_count": null,
   "id": "ffbc784e",
   "metadata": {},
   "outputs": [],
   "source": []
  }
 ],
 "metadata": {
  "colab": {
   "name": "pinn_bar_main.ipynb",
   "provenance": []
  },
  "kernelspec": {
   "display_name": "Python 3 (ipykernel)",
   "language": "python",
   "name": "python3"
  },
  "language_info": {
   "codemirror_mode": {
    "name": "ipython",
    "version": 3
   },
   "file_extension": ".py",
   "mimetype": "text/x-python",
   "name": "python",
   "nbconvert_exporter": "python",
   "pygments_lexer": "ipython3",
   "version": "3.9.7"
  }
 },
 "nbformat": 4,
 "nbformat_minor": 5
}
